{
  "cells": [
    {
      "cell_type": "code",
      "execution_count": 2,
      "metadata": {
        "id": "mrCb0gDlht-9"
      },
      "outputs": [
        {
          "ename": "ModuleNotFoundError",
          "evalue": "No module named 'numpy'",
          "output_type": "error",
          "traceback": [
            "\u001b[1;31m---------------------------------------------------------------------------\u001b[0m",
            "\u001b[1;31mModuleNotFoundError\u001b[0m                       Traceback (most recent call last)",
            "Cell \u001b[1;32mIn[2], line 1\u001b[0m\n\u001b[1;32m----> 1\u001b[0m \u001b[39mimport\u001b[39;00m \u001b[39mnumpy\u001b[39;00m \u001b[39mas\u001b[39;00m \u001b[39mnp\u001b[39;00m\n\u001b[0;32m      2\u001b[0m \u001b[39mimport\u001b[39;00m \u001b[39mpandas\u001b[39;00m \u001b[39mas\u001b[39;00m \u001b[39mpd\u001b[39;00m\n",
            "\u001b[1;31mModuleNotFoundError\u001b[0m: No module named 'numpy'"
          ]
        }
      ],
      "source": [
        "import numpy as np\n",
        "import pandas as pd"
      ]
    },
    {
      "cell_type": "code",
      "execution_count": 3,
      "metadata": {
        "colab": {
          "base_uri": "https://localhost:8080/"
        },
        "id": "nGHnadm3J-T-",
        "outputId": "6f9590f3-ad63-403b-eb17-9036e152c146"
      },
      "outputs": [
        {
          "name": "stdout",
          "output_type": "stream",
          "text": [
            "Mounted at /content/drive\n"
          ]
        }
      ],
      "source": [
        "from google.colab import drive\n",
        "drive.mount('/content/drive')"
      ]
    },
    {
      "cell_type": "code",
      "execution_count": 25,
      "metadata": {
        "colab": {
          "base_uri": "https://localhost:8080/",
          "height": 424
        },
        "id": "QLpdkTMCNnS5",
        "outputId": "c691d3b8-6752-4884-efef-d26a8456258a"
      },
      "outputs": [
        {
          "data": {
            "text/html": [
              "\n",
              "  <div id=\"df-6a5eab44-9e5a-4930-a79c-e59c525bbbc5\">\n",
              "    <div class=\"colab-df-container\">\n",
              "      <div>\n",
              "<style scoped>\n",
              "    .dataframe tbody tr th:only-of-type {\n",
              "        vertical-align: middle;\n",
              "    }\n",
              "\n",
              "    .dataframe tbody tr th {\n",
              "        vertical-align: top;\n",
              "    }\n",
              "\n",
              "    .dataframe thead th {\n",
              "        text-align: right;\n",
              "    }\n",
              "</style>\n",
              "<table border=\"1\" class=\"dataframe\">\n",
              "  <thead>\n",
              "    <tr style=\"text-align: right;\">\n",
              "      <th></th>\n",
              "      <th>NO</th>\n",
              "      <th>PTN</th>\n",
              "      <th>KODE PRODI</th>\n",
              "      <th>NAMA PRODI</th>\n",
              "      <th>RATAAN</th>\n",
              "      <th>S.BAKU</th>\n",
              "      <th>MIN</th>\n",
              "      <th>MAX</th>\n",
              "    </tr>\n",
              "  </thead>\n",
              "  <tbody>\n",
              "    <tr>\n",
              "      <th>0</th>\n",
              "      <td>1</td>\n",
              "      <td>UNIVERSITAS INDONESIA</td>\n",
              "      <td>3211015</td>\n",
              "      <td>PENDIDIKAN DOKTER</td>\n",
              "      <td>74793</td>\n",
              "      <td>1963</td>\n",
              "      <td>72438</td>\n",
              "      <td>79855</td>\n",
              "    </tr>\n",
              "    <tr>\n",
              "      <th>1</th>\n",
              "      <td>2</td>\n",
              "      <td>UNIVERSITAS AIRLANGGA</td>\n",
              "      <td>3811014</td>\n",
              "      <td>PENDIDIKAN DOKTER</td>\n",
              "      <td>72694</td>\n",
              "      <td>2129</td>\n",
              "      <td>70254</td>\n",
              "      <td>80801</td>\n",
              "    </tr>\n",
              "    <tr>\n",
              "      <th>2</th>\n",
              "      <td>3</td>\n",
              "      <td>UNIVERSITAS PADJADJARAN</td>\n",
              "      <td>3331013</td>\n",
              "      <td>PENDIDIKAN DOKTER</td>\n",
              "      <td>71794</td>\n",
              "      <td>1869</td>\n",
              "      <td>69417</td>\n",
              "      <td>78052</td>\n",
              "    </tr>\n",
              "    <tr>\n",
              "      <th>3</th>\n",
              "      <td>4</td>\n",
              "      <td>UNIVERSITAS GADJAH MADA</td>\n",
              "      <td>3611066</td>\n",
              "      <td>KEDOKTERAN</td>\n",
              "      <td>72521</td>\n",
              "      <td>2708</td>\n",
              "      <td>68905</td>\n",
              "      <td>80984</td>\n",
              "    </tr>\n",
              "    <tr>\n",
              "      <th>4</th>\n",
              "      <td>5</td>\n",
              "      <td>UNIVERSITAS INDONESIA</td>\n",
              "      <td>3211166</td>\n",
              "      <td>ILMU KOMPUTER</td>\n",
              "      <td>71241</td>\n",
              "      <td>2413</td>\n",
              "      <td>68596</td>\n",
              "      <td>79866</td>\n",
              "    </tr>\n",
              "    <tr>\n",
              "      <th>...</th>\n",
              "      <td>...</td>\n",
              "      <td>...</td>\n",
              "      <td>...</td>\n",
              "      <td>...</td>\n",
              "      <td>...</td>\n",
              "      <td>...</td>\n",
              "      <td>...</td>\n",
              "      <td>...</td>\n",
              "    </tr>\n",
              "    <tr>\n",
              "      <th>495</th>\n",
              "      <td>496</td>\n",
              "      <td>UNIVERSITAS ANDALAS</td>\n",
              "      <td>1411114</td>\n",
              "      <td>SISTEM KOMPUTER</td>\n",
              "      <td>59845</td>\n",
              "      <td>1602</td>\n",
              "      <td>58223</td>\n",
              "      <td>65316</td>\n",
              "    </tr>\n",
              "    <tr>\n",
              "      <th>496</th>\n",
              "      <td>497</td>\n",
              "      <td>UNIVERSITAS NEGERI SEMARANG</td>\n",
              "      <td>3561142</td>\n",
              "      <td>PENDIDIKAN IPA</td>\n",
              "      <td>5946</td>\n",
              "      <td>1304</td>\n",
              "      <td>58214</td>\n",
              "      <td>63012</td>\n",
              "    </tr>\n",
              "    <tr>\n",
              "      <th>497</th>\n",
              "      <td>498</td>\n",
              "      <td>UNIVERSITAS NEGERI MALANG</td>\n",
              "      <td>3731184</td>\n",
              "      <td>ILMU KESEHATAN MASYARAKAT</td>\n",
              "      <td>59879</td>\n",
              "      <td>1746</td>\n",
              "      <td>58205</td>\n",
              "      <td>68701</td>\n",
              "    </tr>\n",
              "    <tr>\n",
              "      <th>498</th>\n",
              "      <td>499</td>\n",
              "      <td>UNIVERSITAS SRIWIJAYA</td>\n",
              "      <td>1711342</td>\n",
              "      <td>PSIKOLOGI</td>\n",
              "      <td>61253</td>\n",
              "      <td>1676</td>\n",
              "      <td>58197</td>\n",
              "      <td>64792</td>\n",
              "    </tr>\n",
              "    <tr>\n",
              "      <th>499</th>\n",
              "      <td>500</td>\n",
              "      <td>UNIVERSITAS BRAWIJAYA</td>\n",
              "      <td>3721263</td>\n",
              "      <td>AGROEKOTEKNOLOGI</td>\n",
              "      <td>59759</td>\n",
              "      <td>1354</td>\n",
              "      <td>58192</td>\n",
              "      <td>65566</td>\n",
              "    </tr>\n",
              "  </tbody>\n",
              "</table>\n",
              "<p>500 rows × 8 columns</p>\n",
              "</div>\n",
              "      <button class=\"colab-df-convert\" onclick=\"convertToInteractive('df-6a5eab44-9e5a-4930-a79c-e59c525bbbc5')\"\n",
              "              title=\"Convert this dataframe to an interactive table.\"\n",
              "              style=\"display:none;\">\n",
              "        \n",
              "  <svg xmlns=\"http://www.w3.org/2000/svg\" height=\"24px\"viewBox=\"0 0 24 24\"\n",
              "       width=\"24px\">\n",
              "    <path d=\"M0 0h24v24H0V0z\" fill=\"none\"/>\n",
              "    <path d=\"M18.56 5.44l.94 2.06.94-2.06 2.06-.94-2.06-.94-.94-2.06-.94 2.06-2.06.94zm-11 1L8.5 8.5l.94-2.06 2.06-.94-2.06-.94L8.5 2.5l-.94 2.06-2.06.94zm10 10l.94 2.06.94-2.06 2.06-.94-2.06-.94-.94-2.06-.94 2.06-2.06.94z\"/><path d=\"M17.41 7.96l-1.37-1.37c-.4-.4-.92-.59-1.43-.59-.52 0-1.04.2-1.43.59L10.3 9.45l-7.72 7.72c-.78.78-.78 2.05 0 2.83L4 21.41c.39.39.9.59 1.41.59.51 0 1.02-.2 1.41-.59l7.78-7.78 2.81-2.81c.8-.78.8-2.07 0-2.86zM5.41 20L4 18.59l7.72-7.72 1.47 1.35L5.41 20z\"/>\n",
              "  </svg>\n",
              "      </button>\n",
              "      \n",
              "  <style>\n",
              "    .colab-df-container {\n",
              "      display:flex;\n",
              "      flex-wrap:wrap;\n",
              "      gap: 12px;\n",
              "    }\n",
              "\n",
              "    .colab-df-convert {\n",
              "      background-color: #E8F0FE;\n",
              "      border: none;\n",
              "      border-radius: 50%;\n",
              "      cursor: pointer;\n",
              "      display: none;\n",
              "      fill: #1967D2;\n",
              "      height: 32px;\n",
              "      padding: 0 0 0 0;\n",
              "      width: 32px;\n",
              "    }\n",
              "\n",
              "    .colab-df-convert:hover {\n",
              "      background-color: #E2EBFA;\n",
              "      box-shadow: 0px 1px 2px rgba(60, 64, 67, 0.3), 0px 1px 3px 1px rgba(60, 64, 67, 0.15);\n",
              "      fill: #174EA6;\n",
              "    }\n",
              "\n",
              "    [theme=dark] .colab-df-convert {\n",
              "      background-color: #3B4455;\n",
              "      fill: #D2E3FC;\n",
              "    }\n",
              "\n",
              "    [theme=dark] .colab-df-convert:hover {\n",
              "      background-color: #434B5C;\n",
              "      box-shadow: 0px 1px 3px 1px rgba(0, 0, 0, 0.15);\n",
              "      filter: drop-shadow(0px 1px 2px rgba(0, 0, 0, 0.3));\n",
              "      fill: #FFFFFF;\n",
              "    }\n",
              "  </style>\n",
              "\n",
              "      <script>\n",
              "        const buttonEl =\n",
              "          document.querySelector('#df-6a5eab44-9e5a-4930-a79c-e59c525bbbc5 button.colab-df-convert');\n",
              "        buttonEl.style.display =\n",
              "          google.colab.kernel.accessAllowed ? 'block' : 'none';\n",
              "\n",
              "        async function convertToInteractive(key) {\n",
              "          const element = document.querySelector('#df-6a5eab44-9e5a-4930-a79c-e59c525bbbc5');\n",
              "          const dataTable =\n",
              "            await google.colab.kernel.invokeFunction('convertToInteractive',\n",
              "                                                     [key], {});\n",
              "          if (!dataTable) return;\n",
              "\n",
              "          const docLinkHtml = 'Like what you see? Visit the ' +\n",
              "            '<a target=\"_blank\" href=https://colab.research.google.com/notebooks/data_table.ipynb>data table notebook</a>'\n",
              "            + ' to learn more about interactive tables.';\n",
              "          element.innerHTML = '';\n",
              "          dataTable['output_type'] = 'display_data';\n",
              "          await google.colab.output.renderOutput(dataTable, element);\n",
              "          const docLink = document.createElement('div');\n",
              "          docLink.innerHTML = docLinkHtml;\n",
              "          element.appendChild(docLink);\n",
              "        }\n",
              "      </script>\n",
              "    </div>\n",
              "  </div>\n",
              "  "
            ],
            "text/plain": [
              "      NO                          PTN  KODE PRODI                 NAMA PRODI  \\\n",
              "0      1        UNIVERSITAS INDONESIA     3211015          PENDIDIKAN DOKTER   \n",
              "1      2        UNIVERSITAS AIRLANGGA     3811014          PENDIDIKAN DOKTER   \n",
              "2      3      UNIVERSITAS PADJADJARAN     3331013          PENDIDIKAN DOKTER   \n",
              "3      4      UNIVERSITAS GADJAH MADA     3611066                 KEDOKTERAN   \n",
              "4      5        UNIVERSITAS INDONESIA     3211166              ILMU KOMPUTER   \n",
              "..   ...                          ...         ...                        ...   \n",
              "495  496          UNIVERSITAS ANDALAS     1411114            SISTEM KOMPUTER   \n",
              "496  497  UNIVERSITAS NEGERI SEMARANG     3561142             PENDIDIKAN IPA   \n",
              "497  498    UNIVERSITAS NEGERI MALANG     3731184  ILMU KESEHATAN MASYARAKAT   \n",
              "498  499        UNIVERSITAS SRIWIJAYA     1711342                  PSIKOLOGI   \n",
              "499  500        UNIVERSITAS BRAWIJAYA     3721263           AGROEKOTEKNOLOGI   \n",
              "\n",
              "     RATAAN  S.BAKU    MIN    MAX  \n",
              "0     74793    1963  72438  79855  \n",
              "1     72694    2129  70254  80801  \n",
              "2     71794    1869  69417  78052  \n",
              "3     72521    2708  68905  80984  \n",
              "4     71241    2413  68596  79866  \n",
              "..      ...     ...    ...    ...  \n",
              "495   59845    1602  58223  65316  \n",
              "496    5946    1304  58214  63012  \n",
              "497   59879    1746  58205  68701  \n",
              "498   61253    1676  58197  64792  \n",
              "499   59759    1354  58192  65566  \n",
              "\n",
              "[500 rows x 8 columns]"
            ]
          },
          "execution_count": 25,
          "metadata": {},
          "output_type": "execute_result"
        }
      ],
      "source": [
        "df=pd.read_excel(r'/content/drive/MyDrive/data-collabs/data.xlsx')\n",
        "df"
      ]
    },
    {
      "cell_type": "code",
      "execution_count": 26,
      "metadata": {
        "colab": {
          "base_uri": "https://localhost:8080/"
        },
        "id": "rhBZGY9NN40T",
        "outputId": "07874b33-f576-4439-e4f2-b09d34ff1784"
      },
      "outputs": [
        {
          "name": "stdout",
          "output_type": "stream",
          "text": [
            "<class 'pandas.core.frame.DataFrame'>\n",
            "RangeIndex: 500 entries, 0 to 499\n",
            "Data columns (total 8 columns):\n",
            " #   Column      Non-Null Count  Dtype \n",
            "---  ------      --------------  ----- \n",
            " 0   NO          500 non-null    int64 \n",
            " 1   PTN         500 non-null    object\n",
            " 2   KODE PRODI  500 non-null    int64 \n",
            " 3   NAMA PRODI  500 non-null    object\n",
            " 4   RATAAN      500 non-null    int64 \n",
            " 5   S.BAKU      500 non-null    int64 \n",
            " 6   MIN         500 non-null    int64 \n",
            " 7   MAX         500 non-null    int64 \n",
            "dtypes: int64(6), object(2)\n",
            "memory usage: 31.4+ KB\n"
          ]
        }
      ],
      "source": [
        "df.info()"
      ]
    },
    {
      "cell_type": "code",
      "execution_count": 27,
      "metadata": {
        "id": "YFPfFwGDOQ5q"
      },
      "outputs": [],
      "source": [
        "df = df.drop(['NO'], axis=1)\n"
      ]
    },
    {
      "cell_type": "code",
      "execution_count": 28,
      "metadata": {
        "colab": {
          "base_uri": "https://localhost:8080/"
        },
        "id": "ofESNpQYOecR",
        "outputId": "aef7b739-2359-4837-b427-8c1b24300594"
      },
      "outputs": [
        {
          "name": "stdout",
          "output_type": "stream",
          "text": [
            "<class 'pandas.core.frame.DataFrame'>\n",
            "RangeIndex: 500 entries, 0 to 499\n",
            "Data columns (total 7 columns):\n",
            " #   Column      Non-Null Count  Dtype \n",
            "---  ------      --------------  ----- \n",
            " 0   PTN         500 non-null    object\n",
            " 1   KODE PRODI  500 non-null    int64 \n",
            " 2   NAMA PRODI  500 non-null    object\n",
            " 3   RATAAN      500 non-null    int64 \n",
            " 4   S.BAKU      500 non-null    int64 \n",
            " 5   MIN         500 non-null    int64 \n",
            " 6   MAX         500 non-null    int64 \n",
            "dtypes: int64(5), object(2)\n",
            "memory usage: 27.5+ KB\n"
          ]
        }
      ],
      "source": [
        "df.info()"
      ]
    },
    {
      "cell_type": "code",
      "execution_count": 29,
      "metadata": {
        "id": "ZwWWeBEAOw9B"
      },
      "outputs": [],
      "source": [
        "df['KODE PRODI'] = df['KODE PRODI'].astype(str)\n",
        "\n"
      ]
    },
    {
      "cell_type": "code",
      "execution_count": 30,
      "metadata": {
        "colab": {
          "base_uri": "https://localhost:8080/"
        },
        "id": "5gm7dbS0O8nc",
        "outputId": "7068a620-9520-417a-e207-058271b65959"
      },
      "outputs": [
        {
          "name": "stdout",
          "output_type": "stream",
          "text": [
            "<class 'pandas.core.frame.DataFrame'>\n",
            "RangeIndex: 500 entries, 0 to 499\n",
            "Data columns (total 7 columns):\n",
            " #   Column      Non-Null Count  Dtype \n",
            "---  ------      --------------  ----- \n",
            " 0   PTN         500 non-null    object\n",
            " 1   KODE PRODI  500 non-null    object\n",
            " 2   NAMA PRODI  500 non-null    object\n",
            " 3   RATAAN      500 non-null    int64 \n",
            " 4   S.BAKU      500 non-null    int64 \n",
            " 5   MIN         500 non-null    int64 \n",
            " 6   MAX         500 non-null    int64 \n",
            "dtypes: int64(4), object(3)\n",
            "memory usage: 27.5+ KB\n"
          ]
        }
      ],
      "source": [
        "df.info()"
      ]
    },
    {
      "cell_type": "code",
      "execution_count": 31,
      "metadata": {
        "colab": {
          "base_uri": "https://localhost:8080/",
          "height": 206
        },
        "id": "EwZyEtUUP4iF",
        "outputId": "4317836c-2387-4cdb-dde4-95bc3337ad7c"
      },
      "outputs": [
        {
          "data": {
            "text/html": [
              "\n",
              "  <div id=\"df-4df91bc2-5166-40b2-80be-e9cfea3108dc\">\n",
              "    <div class=\"colab-df-container\">\n",
              "      <div>\n",
              "<style scoped>\n",
              "    .dataframe tbody tr th:only-of-type {\n",
              "        vertical-align: middle;\n",
              "    }\n",
              "\n",
              "    .dataframe tbody tr th {\n",
              "        vertical-align: top;\n",
              "    }\n",
              "\n",
              "    .dataframe thead th {\n",
              "        text-align: right;\n",
              "    }\n",
              "</style>\n",
              "<table border=\"1\" class=\"dataframe\">\n",
              "  <thead>\n",
              "    <tr style=\"text-align: right;\">\n",
              "      <th></th>\n",
              "      <th>PTN</th>\n",
              "      <th>KODE PRODI</th>\n",
              "      <th>NAMA PRODI</th>\n",
              "      <th>RATAAN</th>\n",
              "      <th>S.BAKU</th>\n",
              "      <th>MIN</th>\n",
              "      <th>MAX</th>\n",
              "    </tr>\n",
              "  </thead>\n",
              "  <tbody>\n",
              "    <tr>\n",
              "      <th>0</th>\n",
              "      <td>UNIVERSITAS INDONESIA</td>\n",
              "      <td>3211015</td>\n",
              "      <td>PENDIDIKAN DOKTER</td>\n",
              "      <td>74793</td>\n",
              "      <td>1963</td>\n",
              "      <td>72438</td>\n",
              "      <td>79855</td>\n",
              "    </tr>\n",
              "    <tr>\n",
              "      <th>1</th>\n",
              "      <td>UNIVERSITAS AIRLANGGA</td>\n",
              "      <td>3811014</td>\n",
              "      <td>PENDIDIKAN DOKTER</td>\n",
              "      <td>72694</td>\n",
              "      <td>2129</td>\n",
              "      <td>70254</td>\n",
              "      <td>80801</td>\n",
              "    </tr>\n",
              "    <tr>\n",
              "      <th>2</th>\n",
              "      <td>UNIVERSITAS PADJADJARAN</td>\n",
              "      <td>3331013</td>\n",
              "      <td>PENDIDIKAN DOKTER</td>\n",
              "      <td>71794</td>\n",
              "      <td>1869</td>\n",
              "      <td>69417</td>\n",
              "      <td>78052</td>\n",
              "    </tr>\n",
              "    <tr>\n",
              "      <th>3</th>\n",
              "      <td>UNIVERSITAS GADJAH MADA</td>\n",
              "      <td>3611066</td>\n",
              "      <td>KEDOKTERAN</td>\n",
              "      <td>72521</td>\n",
              "      <td>2708</td>\n",
              "      <td>68905</td>\n",
              "      <td>80984</td>\n",
              "    </tr>\n",
              "    <tr>\n",
              "      <th>4</th>\n",
              "      <td>UNIVERSITAS INDONESIA</td>\n",
              "      <td>3211166</td>\n",
              "      <td>ILMU KOMPUTER</td>\n",
              "      <td>71241</td>\n",
              "      <td>2413</td>\n",
              "      <td>68596</td>\n",
              "      <td>79866</td>\n",
              "    </tr>\n",
              "  </tbody>\n",
              "</table>\n",
              "</div>\n",
              "      <button class=\"colab-df-convert\" onclick=\"convertToInteractive('df-4df91bc2-5166-40b2-80be-e9cfea3108dc')\"\n",
              "              title=\"Convert this dataframe to an interactive table.\"\n",
              "              style=\"display:none;\">\n",
              "        \n",
              "  <svg xmlns=\"http://www.w3.org/2000/svg\" height=\"24px\"viewBox=\"0 0 24 24\"\n",
              "       width=\"24px\">\n",
              "    <path d=\"M0 0h24v24H0V0z\" fill=\"none\"/>\n",
              "    <path d=\"M18.56 5.44l.94 2.06.94-2.06 2.06-.94-2.06-.94-.94-2.06-.94 2.06-2.06.94zm-11 1L8.5 8.5l.94-2.06 2.06-.94-2.06-.94L8.5 2.5l-.94 2.06-2.06.94zm10 10l.94 2.06.94-2.06 2.06-.94-2.06-.94-.94-2.06-.94 2.06-2.06.94z\"/><path d=\"M17.41 7.96l-1.37-1.37c-.4-.4-.92-.59-1.43-.59-.52 0-1.04.2-1.43.59L10.3 9.45l-7.72 7.72c-.78.78-.78 2.05 0 2.83L4 21.41c.39.39.9.59 1.41.59.51 0 1.02-.2 1.41-.59l7.78-7.78 2.81-2.81c.8-.78.8-2.07 0-2.86zM5.41 20L4 18.59l7.72-7.72 1.47 1.35L5.41 20z\"/>\n",
              "  </svg>\n",
              "      </button>\n",
              "      \n",
              "  <style>\n",
              "    .colab-df-container {\n",
              "      display:flex;\n",
              "      flex-wrap:wrap;\n",
              "      gap: 12px;\n",
              "    }\n",
              "\n",
              "    .colab-df-convert {\n",
              "      background-color: #E8F0FE;\n",
              "      border: none;\n",
              "      border-radius: 50%;\n",
              "      cursor: pointer;\n",
              "      display: none;\n",
              "      fill: #1967D2;\n",
              "      height: 32px;\n",
              "      padding: 0 0 0 0;\n",
              "      width: 32px;\n",
              "    }\n",
              "\n",
              "    .colab-df-convert:hover {\n",
              "      background-color: #E2EBFA;\n",
              "      box-shadow: 0px 1px 2px rgba(60, 64, 67, 0.3), 0px 1px 3px 1px rgba(60, 64, 67, 0.15);\n",
              "      fill: #174EA6;\n",
              "    }\n",
              "\n",
              "    [theme=dark] .colab-df-convert {\n",
              "      background-color: #3B4455;\n",
              "      fill: #D2E3FC;\n",
              "    }\n",
              "\n",
              "    [theme=dark] .colab-df-convert:hover {\n",
              "      background-color: #434B5C;\n",
              "      box-shadow: 0px 1px 3px 1px rgba(0, 0, 0, 0.15);\n",
              "      filter: drop-shadow(0px 1px 2px rgba(0, 0, 0, 0.3));\n",
              "      fill: #FFFFFF;\n",
              "    }\n",
              "  </style>\n",
              "\n",
              "      <script>\n",
              "        const buttonEl =\n",
              "          document.querySelector('#df-4df91bc2-5166-40b2-80be-e9cfea3108dc button.colab-df-convert');\n",
              "        buttonEl.style.display =\n",
              "          google.colab.kernel.accessAllowed ? 'block' : 'none';\n",
              "\n",
              "        async function convertToInteractive(key) {\n",
              "          const element = document.querySelector('#df-4df91bc2-5166-40b2-80be-e9cfea3108dc');\n",
              "          const dataTable =\n",
              "            await google.colab.kernel.invokeFunction('convertToInteractive',\n",
              "                                                     [key], {});\n",
              "          if (!dataTable) return;\n",
              "\n",
              "          const docLinkHtml = 'Like what you see? Visit the ' +\n",
              "            '<a target=\"_blank\" href=https://colab.research.google.com/notebooks/data_table.ipynb>data table notebook</a>'\n",
              "            + ' to learn more about interactive tables.';\n",
              "          element.innerHTML = '';\n",
              "          dataTable['output_type'] = 'display_data';\n",
              "          await google.colab.output.renderOutput(dataTable, element);\n",
              "          const docLink = document.createElement('div');\n",
              "          docLink.innerHTML = docLinkHtml;\n",
              "          element.appendChild(docLink);\n",
              "        }\n",
              "      </script>\n",
              "    </div>\n",
              "  </div>\n",
              "  "
            ],
            "text/plain": [
              "                       PTN KODE PRODI         NAMA PRODI  RATAAN  S.BAKU  \\\n",
              "0    UNIVERSITAS INDONESIA    3211015  PENDIDIKAN DOKTER   74793    1963   \n",
              "1    UNIVERSITAS AIRLANGGA    3811014  PENDIDIKAN DOKTER   72694    2129   \n",
              "2  UNIVERSITAS PADJADJARAN    3331013  PENDIDIKAN DOKTER   71794    1869   \n",
              "3  UNIVERSITAS GADJAH MADA    3611066         KEDOKTERAN   72521    2708   \n",
              "4    UNIVERSITAS INDONESIA    3211166      ILMU KOMPUTER   71241    2413   \n",
              "\n",
              "     MIN    MAX  \n",
              "0  72438  79855  \n",
              "1  70254  80801  \n",
              "2  69417  78052  \n",
              "3  68905  80984  \n",
              "4  68596  79866  "
            ]
          },
          "execution_count": 31,
          "metadata": {},
          "output_type": "execute_result"
        }
      ],
      "source": [
        "df.head()"
      ]
    },
    {
      "cell_type": "code",
      "execution_count": 33,
      "metadata": {
        "colab": {
          "base_uri": "https://localhost:8080/"
        },
        "id": "RCGgqDFPP_dK",
        "outputId": "e9202d13-a1c8-4e6e-b610-b36eb20fc1ff"
      },
      "outputs": [
        {
          "data": {
            "text/plain": [
              "PTN           0\n",
              "KODE PRODI    0\n",
              "NAMA PRODI    0\n",
              "RATAAN        0\n",
              "S.BAKU        0\n",
              "MIN           0\n",
              "MAX           0\n",
              "dtype: int64"
            ]
          },
          "execution_count": 33,
          "metadata": {},
          "output_type": "execute_result"
        }
      ],
      "source": [
        "# Cek Apakah ada null values\n",
        "df.isnull().sum()"
      ]
    },
    {
      "cell_type": "code",
      "execution_count": 35,
      "metadata": {
        "colab": {
          "base_uri": "https://localhost:8080/"
        },
        "id": "9kXl3RT_QeSI",
        "outputId": "4f1736b7-4ca6-47ea-f42c-7a5e86e6021f"
      },
      "outputs": [
        {
          "data": {
            "text/plain": [
              "0"
            ]
          },
          "execution_count": 35,
          "metadata": {},
          "output_type": "execute_result"
        }
      ],
      "source": [
        "df.duplicated().sum()"
      ]
    },
    {
      "cell_type": "code",
      "execution_count": 36,
      "metadata": {
        "id": "WwhAUJy1Qn4T"
      },
      "outputs": [],
      "source": [
        "df.to_excel(r'./data.xlsx', index=None, header=True)\n",
        "df.to_csv(r'./data.csv', index=False)"
      ]
    }
  ],
  "metadata": {
    "colab": {
      "provenance": [],
      "toc_visible": true
    },
    "kernelspec": {
      "display_name": "Python 3",
      "name": "python3"
    },
    "language_info": {
      "codemirror_mode": {
        "name": "ipython",
        "version": 3
      },
      "file_extension": ".py",
      "mimetype": "text/x-python",
      "name": "python",
      "nbconvert_exporter": "python",
      "pygments_lexer": "ipython3",
      "version": "3.11.2"
    }
  },
  "nbformat": 4,
  "nbformat_minor": 0
}
